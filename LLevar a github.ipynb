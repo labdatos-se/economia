{
 "cells": [
  {
   "cell_type": "code",
   "execution_count": 29,
   "metadata": {},
   "outputs": [],
   "source": [
    "import git\n",
    "import pandas as pd\n",
    "import os"
   ]
  },
  {
   "cell_type": "code",
   "execution_count": 30,
   "metadata": {},
   "outputs": [],
   "source": [
    "os.chdir('D:/github/medscraper')"
   ]
  },
  {
   "cell_type": "code",
   "execution_count": 25,
   "metadata": {},
   "outputs": [],
   "source": [
    "repo=git.Repo.init('D:/github/medscraper')"
   ]
  },
  {
   "cell_type": "code",
   "execution_count": 35,
   "metadata": {},
   "outputs": [
    {
     "data": {
      "text/plain": [
       "[<git.remote.PushInfo at 0x29d82774c70>]"
      ]
     },
     "execution_count": 35,
     "metadata": {},
     "output_type": "execute_result"
    }
   ],
   "source": [
    "\n",
    "# Create a new pandas DataFrame\n",
    "data = {'Name': ['Alice', 'Bob', 'Charlie'], 'Age': [25, 30, 35]}\n",
    "df = pd.DataFrame(data)\n",
    "\n",
    "# Convert the DataFrame to a JSON string\n",
    "data_json = df.to_json()\n",
    "\n",
    "# Initialize a new Git repository in the local directory\n",
    "repo = git.Repo.init('D:/github/medscraper')\n",
    "\n",
    "# Write the JSON string to a new file in the repository\n",
    "file_path = 'data.json'\n",
    "with open(f'{repo.working_dir}/{file_path}', 'w') as f:\n",
    "    f.write(data_json)\n",
    "\n",
    "# Add the new file to the Git index\n",
    "repo.index.add([file_path])\n",
    "\n",
    "# Commit the changes to the local repository\n",
    "repo.index.commit('Add data.json')\n",
    "\n",
    "# Create a new branch called 'main' and switch to it\n",
    "repo.git.branch('master')\n",
    "repo.git.checkout('master')\n",
    "\n",
    "# Push the changes to the remote GitHub repository\n",
    "origin = repo.remote(name='origin')\n",
    "origin.push(refspec='master')\n"
   ]
  }
 ],
 "metadata": {
  "kernelspec": {
   "display_name": "base",
   "language": "python",
   "name": "python3"
  },
  "language_info": {
   "codemirror_mode": {
    "name": "ipython",
    "version": 3
   },
   "file_extension": ".py",
   "mimetype": "text/x-python",
   "name": "python",
   "nbconvert_exporter": "python",
   "pygments_lexer": "ipython3",
   "version": "3.9.13"
  },
  "orig_nbformat": 4,
  "vscode": {
   "interpreter": {
    "hash": "7f2521f8c852c438ae51a89799ece420e6f028aa659cd11ab73056bc51495ab9"
   }
  }
 },
 "nbformat": 4,
 "nbformat_minor": 2
}
