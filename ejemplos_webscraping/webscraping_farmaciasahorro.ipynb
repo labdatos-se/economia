{
 "cells": [
  {
   "cell_type": "code",
   "execution_count": 1,
   "metadata": {},
   "outputs": [],
   "source": [
    "#Librerías necesarias\n",
    "import pandas as pd\n",
    "#Librerías para webscraping\n",
    "import requests\n",
    "from bs4 import BeautifulSoup"
   ]
  },
  {
   "cell_type": "code",
   "execution_count": 2,
   "metadata": {},
   "outputs": [],
   "source": [
    "basica=\"https://www.fahorro.com/catalogsearch/result/index/?cat=10316&q=c%C3%A1ncer&product_list_limit=90\"\n",
    "#basica=\"https://www.farmaciasespecializadas.com/oncolog%C3%ADa-y-hematolog%C3%ADa/category/oncologia-y-hematologia\""
   ]
  },
  {
   "cell_type": "code",
   "execution_count": 3,
   "metadata": {},
   "outputs": [],
   "source": [
    "#usar headers para que no nos detecte como un bot\n",
    "headers = {'User-Agent': 'Mozilla/5.0 (Windows NT 6.1; Win64; x64) AppleWebKit/537.36 (KHTML, like Gecko) Chrome/80.0.3987.149 Safari/537.36'}\n",
    "response=requests.get(basica,headers=headers)\n",
    "soup=BeautifulSoup(response.text,\"html.parser\")"
   ]
  },
  {
   "cell_type": "code",
   "execution_count": 6,
   "metadata": {},
   "outputs": [],
   "source": [
    "#Obtener todos los elementos de la página\n",
    "elementos=soup.find_all()"
   ]
  },
  {
   "cell_type": "code",
   "execution_count": 8,
   "metadata": {},
   "outputs": [],
   "source": [
    "#Obtener la información de la clase \"product\"\n",
    "datapag=soup.find_all(\"div\",class_=\"product\")"
   ]
  },
  {
   "cell_type": "code",
   "execution_count": 10,
   "metadata": {},
   "outputs": [],
   "source": [
    "#Obtener \"product-item-link\" de todos los elementos\n",
    "nombres=[]\n",
    "precios=[]\n",
    "for i in datapag:\n",
    "    nombres.append(i.find(\"a\",class_=\"product-item-link\"))\n",
    "    precios.append(i.find(\"span\",class_=\"price\"))\n"
   ]
  },
  {
   "cell_type": "code",
   "execution_count": 12,
   "metadata": {},
   "outputs": [
    {
     "data": {
      "text/plain": [
       "[<span class=\"price\">$557.00</span>,\n",
       " None,\n",
       " <span class=\"price\">$444.00</span>,\n",
       " None,\n",
       " <span class=\"price\">$2,864.00</span>,\n",
       " None,\n",
       " <span class=\"price\">$1,502.00</span>,\n",
       " None,\n",
       " <span class=\"price\">$4,250.00</span>,\n",
       " None,\n",
       " <span class=\"price\">$2,175.00</span>,\n",
       " None,\n",
       " <span class=\"price\">$5,108.00</span>,\n",
       " None,\n",
       " <span class=\"price\">$14,766.00</span>,\n",
       " None,\n",
       " <span class=\"price\">$2,009.00</span>,\n",
       " None,\n",
       " <span class=\"price\">$3,484.00</span>,\n",
       " None,\n",
       " <span class=\"price\">$3,826.00</span>,\n",
       " None,\n",
       " <span class=\"price\">$961.00</span>,\n",
       " None]"
      ]
     },
     "execution_count": 12,
     "metadata": {},
     "output_type": "execute_result"
    }
   ],
   "source": [
    "precios"
   ]
  },
  {
   "cell_type": "code",
   "execution_count": 13,
   "metadata": {},
   "outputs": [],
   "source": [
    "#Definir función para solo dejar el nombre y precios de los medicamentos. Usar expresiones regulares\n",
    "import re\n",
    "def limpiar(x):\n",
    "    x=str(x)\n",
    "    x=re.sub(\"<.+?>\",\"\",x)\n",
    "    x=re.sub(\"\\n\",\"\",x)\n",
    "    x=re.sub(\"\\xa0\",\"\",x)\n",
    "    x=re.sub(\"  \",\"\",x)\n",
    "    x=re.sub(\"\\t\",\"\",x)\n",
    "    #ELiminar signo de pesos\n",
    "    x=re.sub(\"\\$\",\"\",x)\n",
    "    #Eliminar registros que digan \"None\"\n",
    "    x=re.sub(\"None\",\"\",x)\n",
    "    return x\n",
    "\n",
    "    "
   ]
  },
  {
   "cell_type": "code",
   "execution_count": 14,
   "metadata": {},
   "outputs": [],
   "source": [
    "#Hacer un loop para limpiar todos los elementos\n",
    "nombres2=[]\n",
    "precios2=[]\n",
    "for i in nombres:\n",
    "    nombres2.append(limpiar(i))\n",
    "for i in precios:\n",
    "    precios2.append(limpiar(i))\n",
    "    "
   ]
  },
  {
   "cell_type": "code",
   "execution_count": 16,
   "metadata": {},
   "outputs": [
    {
     "data": {
      "text/plain": [
       "['557.00',\n",
       " '',\n",
       " '444.00',\n",
       " '',\n",
       " '2,864.00',\n",
       " '',\n",
       " '1,502.00',\n",
       " '',\n",
       " '4,250.00',\n",
       " '',\n",
       " '2,175.00',\n",
       " '',\n",
       " '5,108.00',\n",
       " '',\n",
       " '14,766.00',\n",
       " '',\n",
       " '2,009.00',\n",
       " '',\n",
       " '3,484.00',\n",
       " '',\n",
       " '3,826.00',\n",
       " '',\n",
       " '961.00',\n",
       " '']"
      ]
     },
     "execution_count": 16,
     "metadata": {},
     "output_type": "execute_result"
    }
   ],
   "source": [
    "precios2"
   ]
  },
  {
   "cell_type": "code",
   "execution_count": 18,
   "metadata": {},
   "outputs": [
    {
     "data": {
      "text/html": [
       "<div>\n",
       "<style scoped>\n",
       "    .dataframe tbody tr th:only-of-type {\n",
       "        vertical-align: middle;\n",
       "    }\n",
       "\n",
       "    .dataframe tbody tr th {\n",
       "        vertical-align: top;\n",
       "    }\n",
       "\n",
       "    .dataframe thead th {\n",
       "        text-align: right;\n",
       "    }\n",
       "</style>\n",
       "<table border=\"1\" class=\"dataframe\">\n",
       "  <thead>\n",
       "    <tr style=\"text-align: right;\">\n",
       "      <th></th>\n",
       "      <th>Nombre</th>\n",
       "      <th>Precio</th>\n",
       "    </tr>\n",
       "  </thead>\n",
       "  <tbody>\n",
       "    <tr>\n",
       "      <th>0</th>\n",
       "      <td>Nolvadex20 mg 20 tabletas</td>\n",
       "      <td>557.00</td>\n",
       "    </tr>\n",
       "    <tr>\n",
       "      <th>2</th>\n",
       "      <td>Nolvadex 10 mg oral 30 tabletas</td>\n",
       "      <td>444.00</td>\n",
       "    </tr>\n",
       "    <tr>\n",
       "      <th>4</th>\n",
       "      <td>VENIBYK CAJA CON 28 TABS. DE 50 MG</td>\n",
       "      <td>2,864.00</td>\n",
       "    </tr>\n",
       "    <tr>\n",
       "      <th>6</th>\n",
       "      <td>VENIBYK CAJA CON 14 TABS. DE 50 MG</td>\n",
       "      <td>1,502.00</td>\n",
       "    </tr>\n",
       "    <tr>\n",
       "      <th>8</th>\n",
       "      <td>Arimidex 1 mg oral 28 comprimidos</td>\n",
       "      <td>4,250.00</td>\n",
       "    </tr>\n",
       "    <tr>\n",
       "      <th>10</th>\n",
       "      <td>Arimidex 1 mg oral 14 comprimidos</td>\n",
       "      <td>2,175.00</td>\n",
       "    </tr>\n",
       "    <tr>\n",
       "      <th>12</th>\n",
       "      <td>Zoladex 3.6 mg liberacion prolongada 1 implan</td>\n",
       "      <td>5,108.00</td>\n",
       "    </tr>\n",
       "    <tr>\n",
       "      <th>14</th>\n",
       "      <td>Zoladex 10.8 mg liberacion prolongada 1 implan</td>\n",
       "      <td>14,766.00</td>\n",
       "    </tr>\n",
       "    <tr>\n",
       "      <th>16</th>\n",
       "      <td>Casodex 50 mg oral 14 tabletas</td>\n",
       "      <td>2,009.00</td>\n",
       "    </tr>\n",
       "    <tr>\n",
       "      <th>18</th>\n",
       "      <td>Femara 2.5 mg oral 30 grag</td>\n",
       "      <td>3,484.00</td>\n",
       "    </tr>\n",
       "    <tr>\n",
       "      <th>20</th>\n",
       "      <td>Calutol 50 mg 28 comprimidos</td>\n",
       "      <td>3,826.00</td>\n",
       "    </tr>\n",
       "    <tr>\n",
       "      <th>22</th>\n",
       "      <td>Amal 8mg/4ml 3 amp</td>\n",
       "      <td>961.00</td>\n",
       "    </tr>\n",
       "  </tbody>\n",
       "</table>\n",
       "</div>"
      ],
      "text/plain": [
       "                                             Nombre     Precio\n",
       "0                         Nolvadex20 mg 20 tabletas     557.00\n",
       "2                  Nolvadex 10 mg oral 30 tabletas      444.00\n",
       "4                VENIBYK CAJA CON 28 TABS. DE 50 MG   2,864.00\n",
       "6                VENIBYK CAJA CON 14 TABS. DE 50 MG   1,502.00\n",
       "8                Arimidex 1 mg oral 28 comprimidos    4,250.00\n",
       "10               Arimidex 1 mg oral 14 comprimidos    2,175.00\n",
       "12   Zoladex 3.6 mg liberacion prolongada 1 implan    5,108.00\n",
       "14  Zoladex 10.8 mg liberacion prolongada 1 implan   14,766.00\n",
       "16                   Casodex 50 mg oral 14 tabletas   2,009.00\n",
       "18                      Femara 2.5 mg oral 30 grag    3,484.00\n",
       "20                     Calutol 50 mg 28 comprimidos   3,826.00\n",
       "22                              Amal 8mg/4ml 3 amp      961.00"
      ]
     },
     "execution_count": 18,
     "metadata": {},
     "output_type": "execute_result"
    }
   ],
   "source": [
    "#Pasar a dataframe\n",
    "df=pd.DataFrame({\"Nombre\":nombres2,\"Precio\":precios2})\n",
    "#Eliminar registros vacíos\n",
    "df=df[df[\"Nombre\"]!=\"\"]\n",
    "df"
   ]
  }
 ],
 "metadata": {
  "kernelspec": {
   "display_name": "base",
   "language": "python",
   "name": "python3"
  },
  "language_info": {
   "codemirror_mode": {
    "name": "ipython",
    "version": 3
   },
   "file_extension": ".py",
   "mimetype": "text/x-python",
   "name": "python",
   "nbconvert_exporter": "python",
   "pygments_lexer": "ipython3",
   "version": "3.9.13 | packaged by conda-forge | (main, May 27 2022, 16:51:29) [MSC v.1929 64 bit (AMD64)]"
  },
  "orig_nbformat": 4,
  "vscode": {
   "interpreter": {
    "hash": "7f2521f8c852c438ae51a89799ece420e6f028aa659cd11ab73056bc51495ab9"
   }
  }
 },
 "nbformat": 4,
 "nbformat_minor": 2
}
