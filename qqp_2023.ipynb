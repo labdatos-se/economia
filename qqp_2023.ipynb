{
 "cells": [
  {
   "attachments": {},
   "cell_type": "markdown",
   "metadata": {},
   "source": [
    "### Código para conjuntar datos de PROFECO y obtener precios PACIC\n"
   ]
  },
  {
   "cell_type": "code",
   "execution_count": 10,
   "metadata": {},
   "outputs": [
    {
     "data": {
      "text/plain": [
       "'es_MX'"
      ]
     },
     "execution_count": 10,
     "metadata": {},
     "output_type": "execute_result"
    }
   ],
   "source": [
    "#Librerías\n",
    "import pandas as pd\n",
    "import requests\n",
    "import os\n",
    "import patoolib\n",
    "import datetime\n",
    "import locale\n",
    "import re\n",
    "import plotly.graph_objects as go\n",
    "import plotly.io as pio\n",
    "\n",
    "# Locale para Mex\n",
    "locale.setlocale(locale.LC_ALL, 'es_MX')"
   ]
  },
  {
   "cell_type": "code",
   "execution_count": 11,
   "metadata": {},
   "outputs": [],
   "source": [
    "#Cambiar directorio de trabajo\n",
    "try:\n",
    "    os.chdir(\"C:/Users/claudio.pacheco/Documents/\")\n",
    "except:\n",
    "    os.chdir(\"C:/Users/claud/Documents/\")\n",
    "#Crear carpeta. Si ya existe, no la crea\n",
    "os.makedirs(\"profeco1\", exist_ok=True)\n",
    "\n",
    "#Cambiar directorio de trabajo\n",
    "os.chdir(\"C:/Users/claudio.pacheco/Documents/\")"
   ]
  },
  {
   "cell_type": "code",
   "execution_count": 12,
   "metadata": {},
   "outputs": [],
   "source": [
    "#Lista de urls\n",
    "urls=[\"https://datos.profeco.gob.mx/datos_abiertos/file.php?t=976288eab7d5db41e8f99258b2f93a6b\"\n",
    "      ]"
   ]
  },
  {
   "cell_type": "code",
   "execution_count": 13,
   "metadata": {},
   "outputs": [],
   "source": [
    "# # Define the destination folder for the downloaded files\n",
    "# folder_path = \"profeco1\"\n",
    "\n",
    "# for url in urls:\n",
    "#     # Define the file name and path\n",
    "#     file_name = \"temp.rar\"\n",
    "#     file_path = os.path.join(folder_path, file_name)\n",
    "    \n",
    "#     try:\n",
    "        # # Download the file\n",
    "        # print(f\"Descargando {url}...\")\n",
    "        # response = requests.get(url)\n",
    "        \n",
    "        # # Check if the response status is OK (200)\n",
    "        # response.raise_for_status()\n",
    "\n",
    "        # # Save the file to the destination folder\n",
    "        # with open(file_path, 'wb') as f:\n",
    "        #     f.write(response.content)\n",
    "        \n",
    "    #     print(f\"Descarga completada: {url}\")\n",
    "        \n",
    "    #     # Check if \"temp.rar\" exists before extracting\n",
    "    #     if os.path.exists(file_path):\n",
    "    #         # Extract the files from the RAR archive\n",
    "    #         print(f\"Extrayendo archivos...\")\n",
    "    #         patoolib.extract_archive(file_path, outdir=folder_path)\n",
    "    #         print(\"Extracción completada\")\n",
    "    #         # Remove the RAR file\n",
    "    #         os.remove(file_path)\n",
    "    #     else:\n",
    "    #         print(f\"Archivo {file_path} no encontrado, omitiendo la extracción.\")\n",
    "        \n",
    "    # except requests.RequestException as e:\n",
    "    #     print(f\"Error descargando {url}. Error: {e}\")\n",
    "    # except Exception as e:\n",
    "    #     print(f\"Error procesando {url}. Error: {e}\")\n",
    "\n",
    "\n"
   ]
  },
  {
   "cell_type": "code",
   "execution_count": null,
   "metadata": {},
   "outputs": [],
   "source": []
  },
  {
   "cell_type": "code",
   "execution_count": 14,
   "metadata": {},
   "outputs": [],
   "source": [
    "#Concatenar archivos de las carpetas en un solo dataframe\n",
    "#Lista de carpetas\n",
    "\n",
    "carpetas = os.listdir(\"profeco1\")\n",
    "archivos = [os.listdir(\"profeco1/\"+carpeta) for carpeta in carpetas]"
   ]
  },
  {
   "cell_type": "code",
   "execution_count": 15,
   "metadata": {},
   "outputs": [
    {
     "data": {
      "text/plain": [
       "[['01-2023_01.csv',\n",
       "  '01-2023_02.csv',\n",
       "  '02-2023_01.csv',\n",
       "  '02-2023_02.csv',\n",
       "  '03-2023_01.csv',\n",
       "  '03-2023_02.csv',\n",
       "  '04-2023_01.csv',\n",
       "  '04-2023_02.csv',\n",
       "  '05-2023_01.csv',\n",
       "  '05-2023_02.csv',\n",
       "  '06-2023_01.csv',\n",
       "  '06-2023_02.csv',\n",
       "  '07-2023_01.csv',\n",
       "  '07-2023_02.csv',\n",
       "  '08-2023_01.csv',\n",
       "  '08-2023_02.csv',\n",
       "  '09-2023_01.csv']]"
      ]
     },
     "execution_count": 15,
     "metadata": {},
     "output_type": "execute_result"
    }
   ],
   "source": [
    "archivos"
   ]
  },
  {
   "cell_type": "code",
   "execution_count": 16,
   "metadata": {},
   "outputs": [
    {
     "name": "stdout",
     "output_type": "stream",
     "text": [
      "Concatenando archivo 1 de 17\n",
      "Concatenando archivo 2 de 17\n",
      "Concatenando archivo 3 de 17\n",
      "Concatenando archivo 4 de 17\n",
      "Concatenando archivo 5 de 17\n",
      "Concatenando archivo 6 de 17\n",
      "Concatenando archivo 7 de 17\n",
      "Concatenando archivo 8 de 17\n",
      "Concatenando archivo 9 de 17\n",
      "Concatenando archivo 10 de 17\n",
      "Concatenando archivo 11 de 17\n",
      "Concatenando archivo 12 de 17\n",
      "Concatenando archivo 13 de 17\n",
      "Concatenando archivo 14 de 17\n",
      "Concatenando archivo 15 de 17\n",
      "Concatenando archivo 16 de 17\n",
      "Concatenando archivo 17 de 17\n",
      "Filtrando datos: Dejar solo productos PACIC\n",
      "Proceso terminado\n"
     ]
    }
   ],
   "source": [
    "#Lista de dfs\n",
    "dfs = []\n",
    "\n",
    "for i, folder in enumerate(carpetas):\n",
    "    for j, file in enumerate(archivos[i]):\n",
    "        # Path\n",
    "        file_path = \"profeco1/\" + folder + \"/\" + file\n",
    "        \n",
    "        # Leer csvs\n",
    "        temp_df = pd.read_csv(file_path, encoding=\"utf-8\", names=[\n",
    "            \"producto\", \"presentacion\", \"marca\", \"categoria\", \"catalogo\", \"precio\",\n",
    "            \"fecharegistro\", \"cadenacomercial\", \"giro\", \"nombrecomercial\", \"direccion\",\n",
    "            \"estado\", \"municipio\", \"latitud\", \"longitud\"\n",
    "        ])\n",
    "        \n",
    "        # Pegar en lista\n",
    "        dfs.append(temp_df)\n",
    "        print(f\"Concatenando archivo {j+1} de {len(archivos[i])}\")\n",
    "\n",
    "# concatenar en df\n",
    "df = pd.concat(dfs, ignore_index=True)\n",
    "#Eliminar acentos\n",
    "df[\"producto\"] = df[\"producto\"].str.normalize('NFKD').str.encode('ascii', errors='ignore').str.decode('utf-8')\n",
    "# Fltro por catálogo\n",
    "print(\"Filtrando datos: Dejar solo productos PACIC\")\n",
    "pacic = df[df[\"catalogo\"] == \"PACIC\"]\n",
    "#Todo en minúsculas\n",
    "print(\"Proceso terminado\")"
   ]
  },
  {
   "cell_type": "code",
   "execution_count": 17,
   "metadata": {},
   "outputs": [],
   "source": [
    "#Se crean funciones para el análisis de datos\n",
    "def examinar(df):\n",
    "    #Examinar productos únicos\n",
    "    print(\"Productos únicos en la tabla: \")\n",
    "    print(df[\"producto\"].unique())\n",
    "    print(\"Número de productos únicos: \", len(df[\"producto\"].unique()))\n",
    "    print(\"Número de registros: \", format(len(df), \",d\"))\n",
    "\n",
    "def filtro_pacic(df):\n",
    "    filtro = [\"ACEITE\", \"ARROZ\", \"ATUN\", \"AZUCAR\", \"CARNE RES\",\"CEBOLLA\", \"CHILE FRESCO\",\n",
    "              \"CARNE CERDO\", \"FRIJOL\",\"HUEVO\", \"JABON DE TOCADOR\", \"JITOMATE\", \"LECHE ULTRAPASTEURIZADA\",\n",
    "                \"LIMON\", \"MANZANA\", \"NARANJA\", \"PAN DE CAJA\", \"PAPA\", \"PAPEL HIGIENICO\", \"PASTA PARA SOPA\",\n",
    "                \"CARNE POLLO\", \"SARDINA\", \"TORTILLA DE MAIZ\", \"ZANAHORIA\"]\n",
    "    return df[df[\"producto\"].isin(filtro)]\n",
    "    \n",
    "def filtro_supermercado(df):\n",
    "    filtro = ['MEGA SORIANA', 'WAL-MART','BODEGA AURRERA', 'CHEDRAUI',\n",
    "              'HIPERMERCADO SORIANA', 'SUPERMERCADOS LEY','SORIANA SUPER', 'CASA LEY', 'SORIANA EXPRESS',\n",
    "              'MERCADO SORIANA','LA COMER', 'SUMESA', 'WAL-MART EXPRESS', 'BODEGA AURRERA EXPRESS',\n",
    "              'CHEDRAUI SELECTO', 'SORIANA', 'SUPER CHEDRAUI', 'CITY MARKET', 'FRESKO LA COMER','LEY (AUTOSERVICIO)',\n",
    "              'LEY EXPRESS']\n",
    "\n",
    "    # Filtro\n",
    "    df_filtered = df[(df['giro'] == 'SUPERMERCADO / TIENDA DE AUTOSERVICIO') & (df['cadenacomercial'].isin(filtro))]\n",
    "\n",
    "    # Crear \"grupo\" basado en \"cadenacomercial\"\n",
    "    def categorize_chain(chain):\n",
    "        if chain in [\"WAL-MART\", \"WAL-MART EXPRESS\", \"BODEGA AURRERA\", \"BODEGA AURRERA EXPRESS\"]:\n",
    "            return \"WALMART\"\n",
    "        elif chain in [\"SORIANA SUPER\", \"MEGA SORIANA\", \"HIPERMERCADO SORIANA\", \"MERCADO SORIANA\", \"SORIANA EXPRESS\", \"SORIANA\", \"LA COMER\", \"SUMESA\", \"CITY MARKET\", \"FRESKO LA COMER\"]:\n",
    "            return \"SORIANA\"\n",
    "        elif chain in [\"CHEDRAUI\", \"CHEDRAUI SELECTO\", \"SUPER CHEDRAUI\"]:\n",
    "            return \"CHEDRAUI\"\n",
    "        elif chain in [\"SUPERMERCADOS LEY\", \"CASA LEY\", \"LEY (AUTOSERVICIO)\", \"LEY EXPRESS\"]:\n",
    "            return \"LEY\"\n",
    "        else:\n",
    "            return chain\n",
    "\n",
    "    df_filtered[\"grupo\"] = df_filtered[\"cadenacomercial\"].apply(categorize_chain)\n",
    "    return df_filtered"
   ]
  },
  {
   "cell_type": "code",
   "execution_count": 18,
   "metadata": {},
   "outputs": [
    {
     "name": "stdout",
     "output_type": "stream",
     "text": [
      "Productos únicos en la tabla: \n",
      "['ACEITE' 'ARROZ' 'ATUN' 'AZUCAR' 'CARNE CERDO' 'CARNE POLLO' 'CARNE RES'\n",
      " 'CEBOLLA' 'CHILE FRESCO' 'FRIJOL' 'JABON DE TOCADOR' 'JITOMATE'\n",
      " 'LECHE ULTRAPASTEURIZADA' 'LIMON' 'MANZANA' 'PAN DE CAJA'\n",
      " 'PAPEL HIGIENICO' 'PASTA PARA SOPA' 'PLATANO' 'SARDINA'\n",
      " 'TORTILLA DE MAIZ' 'ZANAHORIA' 'HUEVO' 'PAPA' 'LECHE PASTEURIZADA'\n",
      " 'ESPINACAS' 'JAMON' 'LECHUGA' 'LENTEJA' 'MOJARRA' 'PURE DE TOMATE'\n",
      " 'SERVILLETAS DE PAPEL BLANCO' 'TOALLA FEMENINA' 'PINA' 'TILAPIA']\n",
      "Número de productos únicos:  35\n",
      "Número de registros:  502,599\n"
     ]
    }
   ],
   "source": [
    "examinar(pacic)"
   ]
  },
  {
   "cell_type": "code",
   "execution_count": 19,
   "metadata": {},
   "outputs": [
    {
     "name": "stdout",
     "output_type": "stream",
     "text": [
      "Productos únicos en la tabla: \n",
      "['A.S.COR' 'ACEITE' 'ACEITE DE OLIVA' 'ACEITUNA' 'ACELGA' 'ACICLOVIR'\n",
      " 'ACIDO FOLICO' 'ACLIMAFEL' 'ACONDICIONADOR Y ENJUAGUE' 'ADALAT OROS'\n",
      " 'ADEROGYL 15' 'ADIMOD' 'AFUMIX' 'AFUNGIL' 'AGRIFEN' 'AGUA CON GAS'\n",
      " 'AGUA SIN GAS' 'AGUACATE' 'ALCOHOL' 'ALEVIAN DUO' 'ALGODON'\n",
      " 'ALIMENTO PREPARADO PARA NINOS' 'ALIMENTOS PREPADOS' 'ALKA-SELTZER'\n",
      " 'ALTRULINE' 'AMARYL M' 'AMBROXOL DEXTROMETORFANO' 'AMLODIPINO'\n",
      " 'AMOXICILINA' 'AMOXICLAV. BID' 'AMPICILINA' 'AMPLIRON DUO' 'ANGELIQ A'\n",
      " 'ANTIFLU-DES' 'ANTIFLU-DES JR.' 'APROVEL' 'ARAVA' 'ARCOXIA' 'ARROZ'\n",
      " 'ARTRIDOL' 'ASENLIX' 'ASPIRADORAS' 'ASPIRINA' 'ASPIRINA PROTECT'\n",
      " 'ATACAND' 'ATACAND PLUS' 'ATORVASTATINA' 'ATUN' 'AUGMENTIN 12 H.'\n",
      " 'AUTOPISTAS' 'AVAMYS 2A' 'AVELOX 7D' 'AVENA' 'AVODART' 'AZITROMICINA'\n",
      " 'AZUCAR' 'BACTRIM F' 'BARRA DE SONIDO' 'BATIDORAS' 'BEBIDAS HIDRATANTES'\n",
      " 'BEDOYECTA' 'BEDOYECTA-TRI' 'BENZONATATO' 'BETABEL'\n",
      " 'BETAMETASONA/ CLOTRIMAZOL/ GENTAMICINA' 'BEXIDENT ENCIAS' 'BEZAFIBRATO'\n",
      " 'BIOMETRIX' 'BIOMICS' 'BLANQUEADOR' 'BLOPRESS PLUS' 'BOCINAS PORTATILES'\n",
      " 'BONVIVA' 'BREDELIN' 'BUSCAPINA COMPOSITUM' 'BUTILHIOSCINA'\n",
      " 'BUTILHIOSCINA/ METAMIZOL SODICO' 'CACAHUATES' 'CAFE SOLUBLE'\n",
      " 'CAFE TOSTADO Y MOLIDO' 'CAFETERAS' 'CAFIASPIRINA' 'CAJETA' 'CALABAZA'\n",
      " 'CANELA' 'CANESTEN V' 'CANA' 'CAPTOPRIL' 'CARBAMAZEPINA' 'CARNE CERDO'\n",
      " 'CARNE POLLO' 'CARNE RES' 'CEBOLLA' 'CEFAXONA I.M.' 'CEFTREX IM'\n",
      " 'CEFTRIAXONA' 'CEFURACET' 'CELEBREX' 'CELESTAMINE-NS'\n",
      " 'CELESTONE SOLUSPAN' 'CEREALES' 'CERVEZA' 'CHAMPINONES' 'CHAYOTE'\n",
      " 'CHICHAROS EN LATA' 'CHILE FRESCO' 'CHILES' 'CHOLAL MODIFICADO' 'CHORIZO'\n",
      " 'CIALIS' 'CILANTRO' 'CIPROFLOX' 'CIPROFLOXACINO' 'CLENDIX' 'CLEXANE'\n",
      " 'CLINDAMICINA' 'CLORAMFENI OFTENO' 'CLORFENAMINA COMPUESTA'\n",
      " 'COCTEL DE FRUTAS EN ALMIBAR' 'CO-DIOVAN' 'COFIA' 'COL'\n",
      " 'COMBINADO PRIMAVERA' 'COMBIVENT' 'COMBIVENT. RESPIMAT' 'COMPETACT'\n",
      " 'CONCENTRADO DE POLLO' 'CONTAC' 'CONTROLIP' 'CORN FLAKES' 'CREMA'\n",
      " 'CREMA BATIDA' 'CREMA DE CACAHUATE' 'CREMA DENTAL' 'CREMA LIQUIDA'\n",
      " 'CREMA SOLIDA' 'CRESTOR' 'CUBREBOCAS' 'CYMBALTA' 'CYTOTEC' 'DAFLON'\n",
      " 'DAFLON 500 M.' 'DAGLA' 'DALACIN C' 'DAXON' 'DESENFRIOL-D'\n",
      " 'DESENFRIOL-ITO' 'DESODORANTE' 'DETERGENTE P/ROPA' 'DETERGENTE P/TRASTES'\n",
      " 'DEXAMETASONA' 'DEXIVANT' 'DEXTROMETORFANO GUAIFENESINA' 'DIABION'\n",
      " 'DIANE' 'DICLOFENACO' 'DICLOFENACO. VITAMINAS B1, B6 Y B12'\n",
      " 'DICLOFENACO. VITAMINAS B1, B6 Y B13' 'DICLOXACILINA' 'DIFENIDOL'\n",
      " 'DIMEGAN-D' 'DIMENHIDRINATO' 'DIMOFLAX' 'DIPROSPAN' 'DOLOCARTIGEN'\n",
      " 'DOLO-NEUROBION' 'DOLO-NEUROBION FORTE' 'DORIXINA FORTE' 'DORIXINA RELAX'\n",
      " 'EFEXOR XR' 'EJOTE' 'ELATEC' 'ELECTRONICOS DE VIDEO' 'ELEQUINE' 'ELOTE'\n",
      " 'ENALADIL' 'ENALAPRIL' 'ENTEROGERMINA' 'ESPAVEN' 'ESPINACAS'\n",
      " 'ESPUMA DE AFEITAR' 'ESTUFAS' 'EUTIROX 100' 'EVISTA' 'EVRA' 'EXFORGE'\n",
      " 'EXFORGE HCT' 'EXTRACTORES DE JUGOS Y EXPRIMIDORES' 'FABROVEN' 'FEBRAX'\n",
      " 'FERRANINA FOL' 'FLAN' 'FLANAX' 'FLORETES DE BROCOLI' 'FLUCONAZOL'\n",
      " 'FLUOXETINA' 'FOSAMAX PLUS' 'FOSFOCIL' 'FREIDORAS DE AIRE' 'FRIJOL'\n",
      " 'FRIJOLES' 'FUROSEMIDA' 'GALLETAS DULCES' 'GALLETAS POPULARES'\n",
      " 'GALLETAS SALADAS' 'GALVUS MET' 'GARBANZA' 'GASA' 'GAVINDO'\n",
      " 'GEL ANTIBACTERIAL' 'GEL FIJADOR' 'GELATINA EN POLVO' 'GENOPRAZOL'\n",
      " 'GLANIQUE' 'GUANTES DE LATEX' 'GUARNICION DE VERDURAS' 'HALCION'\n",
      " 'HARINA DE ARROZ' 'HARINA DE TRIGO' 'HARINA HOT CAKES' 'HELADO'\n",
      " 'HER-KLIN NF. SHAMPOO' 'HISTIACIL NF' 'HORNO DE MICROONDAS'\n",
      " 'HORNO ELECTRICO' 'HUEVO' 'HUMALOG MIX 25' 'HUMULIN  N. INSULINA HUMANA'\n",
      " 'HUMYLUB OFTENO' 'IMODIUM' 'INSECTICIDA AEROSOL' 'ISODINE BUCOFARINGEO'\n",
      " 'JABON DE PASTA' 'JABON DE TOCADOR' 'JAMON' 'JANUMET' 'JANUVIA'\n",
      " 'JARABE P/PREPARAR BEBIDAS' 'JICAMA' 'JITOMATE' 'JUEGOS DE MESA'\n",
      " 'JUGO DE FRUTA' 'JUGUETES ARMABLES' 'JUGUETES DE DESTREZA'\n",
      " 'JUGUETES EDUCATIVOS' 'KANK-A' 'KEFLEX' 'KEFLEX PEDIATRICO' 'KEPPRA'\n",
      " 'KRYTAN TEK OFTENO' 'LAVADORAS' 'LECHE CONDENSADA' 'LECHE EN POLVO'\n",
      " 'LECHE EVAPORADA' 'LECHE ULTRAPASTEURIZADA' 'LECHUGA' 'LENTEJA'\n",
      " 'LICUADORAS' 'LIMON' 'LIMPIADOR LIQUIDO P/PISO' 'MAIZ POZOLERO'\n",
      " 'MANTECA DE CERDO' 'MANTEQUILLA' 'MANZANA' 'MARGARINA' 'MAYONESA' 'MELON'\n",
      " 'MERMELADA' 'MEZCLA CAMPESINA' 'MINIBOCINAS PORTATILES BLUETOOTH'\n",
      " 'MOLE ROJO EN PASTA' 'MOSTAZA' 'MOTOS Y CARROS ELECTRICOS'\n",
      " 'MOTOS Y CARROS MECANICOS' 'MUNECAS' 'MUNECOS' 'MUNECOS ELECTRICOS'\n",
      " 'NARANJA' 'NEBULIZADOR' 'OLLA DE PRESION EXPRESS' 'OXIMETRO'\n",
      " 'PAN BLANCO BOLILLO' 'PAN DE CAJA' 'PAN DULCE. BISQUET'\n",
      " 'PAN DULCE. CONCHA' 'PAN DULCE. CUERNO'\n",
      " 'PAN DULCE. DONA (CUBIERTA DE CHOCOLATE)' 'PANTALLAS' 'PANTIPROTECTORES'\n",
      " 'PANALES DESECHABLES' 'PAPAS FRITAS Y SIMILARES' 'PAPAYA'\n",
      " 'PAPEL HIGIENICO' 'PASTA PARA SOPA' 'PASTELILLOS Y PAN DULCE EMPAQUETADO'\n",
      " 'PECHUGA DE PAVO' 'PEPINO' 'PERA' 'PIMIENTA' 'PIMIENTO' 'PINA' 'PLANCHAS'\n",
      " 'PLATANO' 'POLVO P/HORNEAR' 'POLVO P/PREPARAR BEBIDAS'\n",
      " 'POLVO PARA BEBIDAS SABOR CHOCOLATE' 'PRODUCTO LACTEO'\n",
      " 'PRODUCTO PARA DEPILACION' 'QUESO AMERICANO' 'QUESO DE PUERCO'\n",
      " 'QUESO OAXACA' 'RABANO' 'RASTRILLOS DESECHABLES' 'REFRESCO'\n",
      " 'REFRIGERADORES' 'REPUESTOS DE NAVAJAS' 'RON'\n",
      " 'ROPA INTERIOR DESECHABLE Y SIMILARES' 'SALCHICHA' 'SALSA CATSUP'\n",
      " 'SALSA INGLESA' 'SALSA PICANTE' 'SALSAS, PICANTES Y SIMILARES' 'SANDIA'\n",
      " 'SARDINA' 'SECADORAS' 'SENSIBIT' 'SERVILLETAS DE PAPEL BLANCO' 'SHAMPOO'\n",
      " 'SHAMPOO PARA BEBES / NINOS' 'SPRAY DESINFECTANTE' 'SUAVIZANTE P/ROPA'\n",
      " 'SUEROS ORALES' 'SUSTITUTO DE AZUCAR' 'TABCIN' 'TABCIN 500' 'TALCO'\n",
      " 'TAMPONES' 'TAPETE SANITIZANTE' 'TEJOCOTE' 'TEMPRA' 'TEQUILA' 'THERAFLU'\n",
      " 'TINTE PARA EL CABELLO' 'TOALLA DE PAPEL' 'TOALLA FEMENINA'\n",
      " 'TOALLITA HUMEDA LIMPIADORA' 'TOALLITAS DESINFECTANTES' 'TOMATE'\n",
      " 'TORONJA' 'TORTILLA DE HARINA DE TRIGO' 'TORTILLA DE MAIZ'\n",
      " 'TOSTADAS DE MAIZ' 'TOSTADORES DE PAN' 'UVA' 'VARIOS' 'VASELINA'\n",
      " 'VENDA ELASTICA' 'VENDITAS ADHESIVAS' 'VINAGRE' 'WHISKY' 'XL-3' 'XL-3 VR'\n",
      " 'YOGHURT' 'ZANAHORIA' 'AJO' 'AJONJOLI' 'ALMENDRAS' 'APIO' 'BROCOLI'\n",
      " 'CHIA' 'CHICHAROS' 'CHILE SECO' 'CIRUELA PASA' 'CLAVO' 'COLIFLOR'\n",
      " 'DETERGENTE P/ROPA Y TRASTES' 'FRESA' 'GUAYABA' 'HABA' 'JAMAICA' 'KIWI'\n",
      " 'MANDARINA' 'NOPAL' 'NUEZ' 'PAPA' 'PASA (UVA PASA)' 'PILONCILLO'\n",
      " 'ROMERITOS' 'SOYA' 'TAMARINDO' 'TOCINO AHUMADO' 'VERDOLAGA'\n",
      " 'BARRAS DE CEREAL' 'BRANDY' 'CEPILLO DENTAL' 'CHOCOLATE' 'FORMULA LACTEA'\n",
      " 'ASISTENTES DE VOZ' 'CAMARAS DIGITALES' 'CELULARES' 'CENTRO DE LAVADO'\n",
      " 'MUNECAS ELECTRICAS' 'VIDEOCAMARAS' 'VIDEOJUEGOS' 'COMPONENTES DE AUDIO'\n",
      " 'COMPUTADORAS PORTATILES' 'DVD / BLU RAY' 'REPRODUCTORES STREAMING'\n",
      " 'SANDWICHERAS' 'VENTILADORES' 'ACARBOSA' 'ALOPURINOL'\n",
      " 'AMANTADINA CLORFENAMINA PARACETAMOL' 'AMIKACINA'\n",
      " 'AMOXICILINA, ACIDO CLAVULANICO' 'BENCILPENICILINA PROCAINICA'\n",
      " 'BETAMETASONA' 'BROMURO DE PINAVERIO' 'CALCITRIOL' 'CEFACLOR'\n",
      " 'CEFALEXINA' 'CEFOTAXIMA' 'CEFUROXIMA' 'CETIRIZINA' 'CINARIZINA'\n",
      " 'CLARITROMICINA' 'CLOPIDOGREL' 'DESLORATADINA' 'ELECTROLITOS ORALES'\n",
      " 'ESPIRONOLACTONA' 'FINASTERIDA' 'PLANCHAS DE VAPOR VERTICAL' 'TABLET'\n",
      " 'AGUA OXIGENADA' 'ALCAPARRA' 'AMBROXOL' 'DIOVAN' 'DOLAC'\n",
      " 'DURAZNOS EN ALMIBAR' 'FIBRA PARA COCINA' 'GLYVENOL' 'GRANOS DE ELOTE'\n",
      " 'GRASA COMESTIBLE' 'HARINA DE MAIZ' 'MEZCLA CALIFORNIA' 'MIEL DE ABEJA'\n",
      " 'MORTADELA' 'PASTEL PIMIENTO' 'PERON' 'PINA EN ALMIBAR' 'PURE DE TOMATE'\n",
      " 'QUESO MANCHEGO' 'QUESO PANELA' 'SALSA DE SOYA' 'SHAMPOO INTIMO'\n",
      " 'TERMOMETRO' 'CERILLOS' 'MICROBICIDA' 'POLLO ROSTIZADO. TRADICIONAL'\n",
      " 'QUESO FRESCO' 'AMBROXOL SALBUTAMOL' 'ATIVAN' 'CHOCOLATE EN TABLILLAS'\n",
      " 'DEXABION' 'TE' 'PILAS ELECTRICAS' 'GRANADA' 'BARRAS DE AVENA'\n",
      " 'LECHE PASTEURIZADA' 'AMARANTO' 'MAMEY' 'GLIBENCLAMIDA' 'GLIMEPIRIDA'\n",
      " 'IBUPROFENO' 'ITRACONAZOL' 'KETOCONAZOL' 'KETOROLACO' 'LACTACYD'\n",
      " 'LAGRICEL OFTENO' 'LAMISIL' 'LANTUS. INSULINA GLARGINA' 'LEVITRA'\n",
      " 'LEVOFLOXACINO' 'LEVONORGESTREL' 'LEXAPRO' 'LIBERTRIM SII' 'LINCOCIN'\n",
      " 'LIPITOR' 'LISINOPRIL' 'LIVIAL' 'LOPID' 'LORATADINA'\n",
      " 'LORATADINA BETAMETASONA' 'LOSARTAN' 'LYRICA' 'MACRODANTINA' 'MANGO'\n",
      " 'MATERNA' 'MEDICASP SHAMPOO' 'MELOXICAM' 'METAMIZOL SODICO' 'METFORMINA'\n",
      " 'METFORMINA-GLIBENCLAMIDA' 'METICORTEN' 'METOPROLOL' 'MICARDIS'\n",
      " 'MICARDIS PLUS' 'MICONAZOL' 'MICTASOL' 'MONTELUKAST' 'MOTRIN'\n",
      " 'MUCOSOLVAN' 'NAPROXENO' 'NAPROXENO SODICO, PARACETAMOL' 'NEO MELUBRINA'\n",
      " 'NEURALIN' 'NEXIUM' 'NEXIUM-MUPS' 'NEXT. TABS' 'NIKZON' 'NITROFURANTOINA'\n",
      " 'NOOTROPIL' 'NORVAS' 'NOVOTIRAL' 'NOVOVARTALON' 'NUCLEO C.M.P. FORTE'\n",
      " 'OMEPRAZOL' 'ORLISTAT' 'OROXADIN' 'PANOTO-S' 'PANTOPRAZOL' 'PANTOZOL'\n",
      " 'PARACETAMOL' 'PARACETAMOL/CAFEINA' 'PATANOL'\n",
      " 'PEDYALITE. SR-45. ELECTROLITOS ORALES' 'PEMIX' 'PENTREXYL'\n",
      " 'PHARMATON. Con Gingeng G115' 'PIASCLEDINE 300' 'PICOT. SAL DE UVAS'\n",
      " 'PLANTABEN' 'PLAQUENIL' 'PLAVIX' 'POMADA DE LA CAMPANA' 'POSIPEN'\n",
      " 'POSTDAY' 'PRAVASTATINA' 'PREVEFEM COMPLEX' 'PRISTIQ' 'PRODOLINA'\n",
      " 'PULMICORT' 'PULMONAROM' 'QG5' 'QUADRIDERM NF' 'QUESO CHIHUAHUA'\n",
      " 'REDOTEX' 'REDOXON' 'REDOXON. Forte' 'REDUSTAT' 'REFRESH TEARS' 'RINELON'\n",
      " 'RIOPAN' 'RIVOTRIL' 'RIVOTRIL. GOTAS' 'ROCEPHIN IM' 'SALBUTAMOL'\n",
      " 'SECOTEX OCAS' 'SEDALMERCK' 'SELOKEN ZOK' 'SELOPRES ZOK' 'SENOSIDOS A-B'\n",
      " 'SERC' 'SERETIDE DISKUS' 'SERMION' 'SERTRALINA' 'SEVERIN N.F.' 'SIES'\n",
      " 'SILDENAFIL' 'SILKA MEDIC' 'SINERGIX' 'SINGULAIR' 'SINUBERASE' 'SIRDALUD'\n",
      " 'SISTEMA GB. SOLUCION ALOPECIA' 'SOMAZINA' 'STERIMAR' 'STUGERON FORTE'\n",
      " 'SUBSALICILATO DE BISMUTO' 'SUFREXAL COMBI' 'SUPRADOL' 'SYSTANE'\n",
      " 'TACEX IM' 'TAFIL' 'TAFIROL FLEX' 'TECTA' 'TELMISARTAN' 'TENORETIC'\n",
      " 'TENORMIN' 'TERBINAFINA' 'TERRAMICINA' 'TIAMINAL B12' 'TRAMACET'\n",
      " 'TRAVATAN' 'TRAYENTA' 'TREDA' 'TRENTAL' 'TREXEN DUO' 'TYLEX 750' 'ULSEN'\n",
      " 'ULSEN PCS' 'UNESIA' 'UNICLAR' 'UNIVAL' 'VAGITROL -V' 'VARITON'\n",
      " 'VARTALON COMPOSITUM' 'VASCULFLOW' 'VENLAFAXINA' 'VERMOX PLUS' 'VIAGRA'\n",
      " 'VICK VAPORUB' 'VYTORIN 10/20' 'XATRAL-OD' 'YASMIN' 'YASMIN 24/4'\n",
      " 'ZACTOS' 'ZINNAT' 'ZINTREPID' 'ZOFILIP' 'CHARAL' 'DURAZNO'\n",
      " 'AIRES ACONDICIONADOS' 'GENTAMICINA'\n",
      " 'HIDROXOCOBALAMINA TIAMINA PIRIDOXINA' 'LINCOMICINA'\n",
      " 'LOSARTAN HIDROCLOROTIAZIDA' 'NITAZOXANIDA' 'PLANTAGO PSYLLIUM'\n",
      " 'TRAMADOL' 'TRIMETOPRIMA SULFAMETOXAZOL' 'GABAPENTINA' 'LAMOTRIGINA'\n",
      " 'LOSEC A-20' 'MISOPROSTOL' 'OLANZAPINA' 'PAROXETINA' 'PAXIL' 'SUEROX'\n",
      " 'SUPLEMENTO ALIMENTICIO' 'TAMSULOSINA' 'TOPIRAMATO' 'VAINILLA'\n",
      " 'VENALOT DEPOT' 'SIMVASTATINA' 'NIMESULIDA' 'CIRUELA' 'BASA' 'MOJARRA'\n",
      " 'SIERRA' 'VITACILINA' 'ROMPOPE' 'TE PREPARADO' 'VINO DE MESA' 'CHICHARO'\n",
      " 'TUNA' 'CALAMAR' 'CAMARON' 'CAZON' 'HUACHINANGO' 'JAIBA' 'PULPO' 'SALMON'\n",
      " 'SAL MOLIDA DE MESA' 'BAGRE' 'QUESO COTIJA' 'RADIOGRABADORAS'\n",
      " 'COPA MENSTRUAL' 'CURVINA' 'LISA' 'LAMPARA AHORRADORA' 'SAL DE MAR'\n",
      " 'CREMA PARA ROZADURAS' 'TILAPIA' 'LIMA' 'ALCACHOFA' 'ALMEJA'\n",
      " 'BARRITA DE SURIMI O BARRITA DE SURIMI CANGRE' 'BANDERA' 'CARPA' 'JUREL'\n",
      " 'ROBALO' 'BLANCO DEL NILO' 'GUANABANA' 'RANITIDINA' 'BEBIDA VARIAS'\n",
      " 'CARNE TERNERA' 'QUESO DOBLE CREMA' 'QUESO CANASTO' 'JUGUETES MONTABLES'\n",
      " 'BOLSA REUTILIZABLE CALIENTE/FRIO' 'JUGUETES MONTABLES ELECTRICOS' 'PETO'\n",
      " 'TRUCHA' 'QUESO SIERRA' 'CHILES LARGOS EN ESCABECHE' 'BICOLOR'\n",
      " 'BOLIGRAFO COLORES VARIOS' 'BOLIGRAFO TINTA NEGRA' 'CINTA ADHESIVA'\n",
      " 'COLORES DE MADERA' 'COMPAS' 'CRAYONES' 'CUADERNO FORMA FRANCESA'\n",
      " 'GOMA BORRADOR' 'JUEGO DE GEOMETRIA' 'LAPIZ' 'LAPIZ ADHESIVO'\n",
      " 'MARCADORES' 'PEGAMENTO' 'PLUMINES' 'PLUMONES' 'PORTAMINAS' 'SACAPUNTAS'\n",
      " 'BLOCK' 'CALCULADORAS' 'CUADERNO FORMA COLLEGE' 'CUADERNO FORMA ITALIANA'\n",
      " 'CUADERNO PROFESIONAL' 'DESENGRAPADORA' 'DICCIONARIO' 'FOLDERS'\n",
      " 'HOJAS DE PAPEL' 'PLASTILINA' 'TIJERAS' 'REGLAS' 'DISCO COMPACTO'\n",
      " 'GRAPAS' 'PLIEGOS DE PAPEL' 'PAMPANO' 'JAIBON' 'VILLAJAIBA'\n",
      " 'CALLO DE HACHA' 'LENGUADO' 'MERO' 'LOBINA' 'CHUCUMITE' 'PARGO' 'BESUGO'\n",
      " 'RUBIA' 'MERLUZA' 'LANGOSTINO' 'LANGOSTA' 'GURRUBATA' 'CINTILLA'\n",
      " 'CASTANAS' 'CURCUMA' 'OREGANO' 'CARNE PAVO' 'ROBALITO' 'TOMILLO' 'COMINO'\n",
      " 'BATA ESCUELA OFICIAL' 'PLAYERA BLANCA' 'TENIS'\n",
      " 'PANTALON ESCUELA OFICIAL' 'PANTALON CORTO SHORTS ESCUELA'\n",
      " 'BLUSA ESCUELA OFICIAL' 'CAMISA ESCUELA OFICIAL' 'FALDA ESCUELA OFICIAL'\n",
      " 'SUETER ESCUELA OFICIAL' 'CHALECO' 'CHAZARILLA ESCUELA OFICIAL'\n",
      " 'LIBRO DE TEXTO DE BIOLOGIA' 'LIBRO DE TEXTO DE CIVISMO'\n",
      " 'LIBRO DE TEXTO DE ESPANOL' 'LIBRO DE TEXTO DE GEOGRAFIA'\n",
      " 'LIBRO DE TEXTO DE HISTORIA' 'LIBRO DE TEXTO DE MATEMATICAS'\n",
      " 'LIBRO DE TEXTO DE FISICA Y QUIMICA' 'COMPUTADORA PORTATIL'\n",
      " 'CONSOLAS DE VIDEOJUEGOS' 'HORNOS MICROONDAS' 'LAVADORASS'\n",
      " 'AIRE ACONDICIONADO' 'HORNOS ELECTRICOS']\n",
      "Número de productos únicos:  787\n",
      "Número de registros:  10,820,540\n"
     ]
    }
   ],
   "source": [
    "examinar(df)"
   ]
  },
  {
   "cell_type": "code",
   "execution_count": 20,
   "metadata": {},
   "outputs": [
    {
     "name": "stdout",
     "output_type": "stream",
     "text": [
      "Número de registros: 1,753,841\n",
      "Productos considerados en tabla pacic que no se encuentran en la pacic2: \n"
     ]
    },
    {
     "data": {
      "text/plain": [
       "{'ESPINACAS',\n",
       " 'JAMON',\n",
       " 'LECHE PASTEURIZADA',\n",
       " 'LECHUGA',\n",
       " 'LENTEJA',\n",
       " 'MOJARRA',\n",
       " 'PINA',\n",
       " 'PLATANO',\n",
       " 'PURE DE TOMATE',\n",
       " 'SERVILLETAS DE PAPEL BLANCO',\n",
       " 'TILAPIA',\n",
       " 'TOALLA FEMENINA'}"
      ]
     },
     "execution_count": 20,
     "metadata": {},
     "output_type": "execute_result"
    }
   ],
   "source": [
    "pacic2=filtro_pacic(df)\n",
    "print(\"Número de registros:\", format(len(pacic2), \",d\"))\n",
    "print(\"Productos considerados en tabla pacic que no se encuentran en la pacic2: \")\n",
    "set(pacic[\"producto\"].unique()) - set(pacic2[\"producto\"].unique())"
   ]
  },
  {
   "cell_type": "code",
   "execution_count": 21,
   "metadata": {},
   "outputs": [
    {
     "name": "stderr",
     "output_type": "stream",
     "text": [
      "C:\\Users\\claudio.pacheco\\AppData\\Local\\Temp\\ipykernel_27940\\2895199600.py:39: SettingWithCopyWarning: \n",
      "A value is trying to be set on a copy of a slice from a DataFrame.\n",
      "Try using .loc[row_indexer,col_indexer] = value instead\n",
      "\n",
      "See the caveats in the documentation: https://pandas.pydata.org/pandas-docs/stable/user_guide/indexing.html#returning-a-view-versus-a-copy\n",
      "  df_filtered[\"grupo\"] = df_filtered[\"cadenacomercial\"].apply(categorize_chain)\n"
     ]
    },
    {
     "name": "stdout",
     "output_type": "stream",
     "text": [
      "Productos únicos en la tabla: \n",
      "['ACEITE' 'ARROZ' 'ATUN' 'AZUCAR' 'CARNE CERDO' 'CARNE POLLO' 'CARNE RES'\n",
      " 'CEBOLLA' 'CHILE FRESCO' 'FRIJOL' 'HUEVO' 'JABON DE TOCADOR' 'JITOMATE'\n",
      " 'LECHE ULTRAPASTEURIZADA' 'LIMON' 'MANZANA' 'NARANJA' 'PAN DE CAJA'\n",
      " 'PAPEL HIGIENICO' 'PASTA PARA SOPA' 'SARDINA' 'TORTILLA DE MAIZ'\n",
      " 'ZANAHORIA' 'PAPA']\n",
      "Número de productos únicos:  24\n",
      "Número de registros:  1,485,321\n"
     ]
    }
   ],
   "source": [
    "#Filtro de supermercados\n",
    "pacic2=filtro_supermercado(pacic2)\n",
    "examinar(pacic2)"
   ]
  },
  {
   "cell_type": "code",
   "execution_count": 22,
   "metadata": {},
   "outputs": [],
   "source": [
    "#Salvar el dataframe en un archivo csv\n",
    "pacic2.to_csv(\"pacic.csv\", index=False)"
   ]
  },
  {
   "cell_type": "code",
   "execution_count": 23,
   "metadata": {},
   "outputs": [
    {
     "name": "stdout",
     "output_type": "stream",
     "text": [
      "CHEDRAUI = $1,207.14\n",
      "LEY = $1,177.09\n",
      "SORIANA = $1,161.73\n",
      "WALMART = $1,263.50\n"
     ]
    }
   ],
   "source": [
    "#Obtener precio promedio de la canasta de 24 productos por grupo con formato\n",
    "average_price_by_group = pacic2.groupby(\"grupo\")[\"precio\"].mean()\n",
    "average_spend_by_group = average_price_by_group * 24\n",
    "\n",
    "formatted_spend = average_spend_by_group.map(\"${:,.2f}\".format)\n",
    "for group, spend in formatted_spend.items():\n",
    "    print(f\"{group} = {spend}\")"
   ]
  },
  {
   "cell_type": "code",
   "execution_count": 24,
   "metadata": {},
   "outputs": [],
   "source": [
    "#Datos a cuadro de resultados\n",
    "df_spend = formatted_spend.reset_index()\n",
    "df_spend.columns = [\"grupo\", \"costo\"]\n",
    "\n",
    "# Tabla\n",
    "fig = go.Figure(data=[go.Table(header=dict(values=[\"<b>Grupo</b>\",\n",
    "                        \"<b>Costo promedio</b>\"\n",
    "                          ],\n",
    "                fill_color='#9d2449',\n",
    "                align='center',\n",
    "                font_color='white',\n",
    "                font_family=\"Montserrat\",\n",
    "                font_size=20),\n",
    "    cells=dict(values=[df_spend[\"grupo\"], df_spend[\"costo\"]],\n",
    "fill_color='white',\n",
    "               align='center',\n",
    "           font_family=\"Montserrat\",\n",
    "           font_size=18,\n",
    "           height=30,\n",
    "           line_color='black',\n",
    "           \n",
    "           ))\n",
    "])\n",
    "\n",
    "#Título\n",
    "fig.update_layout(\n",
    "    showlegend=False,\n",
    "    title_text=\"<b>Costo promedio de la canasta PACIC por grupo, enero-septiembre 2023<br>\",\n",
    "    title_font_family=\"Montserrat\",\n",
    "    title_font_size=25\n",
    ")\n",
    "\n",
    "\n",
    "#Fuente\n",
    "fig.add_annotation(text=\"Secretaría de Economía. Dirección General de Competitividad y Competencia con información de PROFECO. Quién es quién en los precios. Datos abiertos.\",\n",
    "                  x=0, y=-0.09, showarrow=False,\n",
    "                   font_family=\"Century Gothic\")\n",
    "\n",
    "#Salvar la tabla como PNG \n",
    "pio.write_image(fig, \"profeco1/costocanasta_grupo.png\", width=1000, height=450,scale=1)"
   ]
  }
 ],
 "metadata": {
  "kernelspec": {
   "display_name": "base",
   "language": "python",
   "name": "python3"
  },
  "language_info": {
   "codemirror_mode": {
    "name": "ipython",
    "version": 3
   },
   "file_extension": ".py",
   "mimetype": "text/x-python",
   "name": "python",
   "nbconvert_exporter": "python",
   "pygments_lexer": "ipython3",
   "version": "3.10.10"
  },
  "orig_nbformat": 4
 },
 "nbformat": 4,
 "nbformat_minor": 2
}
